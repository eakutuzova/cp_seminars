{
 "cells": [
  {
   "cell_type": "code",
   "execution_count": 241,
   "metadata": {},
   "outputs": [],
   "source": [
    "from statistics import mean"
   ]
  },
  {
   "cell_type": "code",
   "execution_count": 242,
   "metadata": {},
   "outputs": [],
   "source": [
    "def avg_weather_proc(birthday, file):\n",
    "    \"\"\"Birthday format: 'YYYY-MM-DD'\"\"\"\n",
    "    avg_weather = 0.\n",
    "    counter = 0\n",
    "    birthay_month = birthday[5:7]\n",
    "    birthday_day = birthday[8:10]\n",
    "    for line in file.readlines():\n",
    "        if int(line.replace('\\n', '').split()[1]) == int(birthay_month) and \\\n",
    "        int(line.replace('\\n', '').split()[2]) == int(birthday_day):\n",
    "            avg_weather += float(line.replace('\\n', '').split()[3])\n",
    "            counter += 1\n",
    "    if counter > 0:\n",
    "        return avg_weather / counter\n",
    "    else:\n",
    "        raise TypeError"
   ]
  },
  {
   "cell_type": "code",
   "execution_count": 243,
   "metadata": {},
   "outputs": [
    {
     "name": "stdout",
     "output_type": "stream",
     "text": [
      "2.5820754716981136\n"
     ]
    }
   ],
   "source": [
    "with open('weather.txt', 'r', encoding='UTF8') as file:\n",
    "    print(avg_weather_proc('2019-04-08', file))"
   ]
  },
  {
   "cell_type": "code",
   "execution_count": 244,
   "metadata": {},
   "outputs": [],
   "source": [
    "def avg_weather_func(birthday, file):\n",
    "    return mean(map(lambda x: x[2], list(filter(lambda x: x[0]==int(birthday[5:7]) \\\n",
    "                                                and x[1]==int(birthday[8:10]), \\\n",
    "                       list(map(lambda x: (int(x.replace('\\n', '').split()[1]),\\\n",
    "                                           int(x.replace('\\n', '').split()[2]),\\\n",
    "                                           float(x.replace('\\n', '').split()[3])),\\\n",
    "                                file.readlines()))))))"
   ]
  },
  {
   "cell_type": "code",
   "execution_count": 245,
   "metadata": {},
   "outputs": [
    {
     "name": "stdout",
     "output_type": "stream",
     "text": [
      "2.582075471698113\n"
     ]
    }
   ],
   "source": [
    "with open('weather.txt', 'r', encoding='UTF8') as file:\n",
    "    print(avg_weather_func('2019-04-08', file))"
   ]
  },
  {
   "cell_type": "code",
   "execution_count": 246,
   "metadata": {},
   "outputs": [],
   "source": [
    "def min_weather_proc(birthday, file):\n",
    "    \"\"\"Birthday format: 'YYYY-MM-DD'\"\"\"\n",
    "    min_weather = 999999999999999\n",
    "    birthay_month = birthday[5:7]\n",
    "    birthday_day = birthday[8:10]\n",
    "    for line in file.readlines():\n",
    "        if int(line.replace('\\n', '').split()[1]) == int(birthay_month) and \\\n",
    "        int(line.replace('\\n', '').split()[2]) == int(birthday_day):\n",
    "            if float(line.replace('\\n', '').split()[3]) < min_weather: \n",
    "                min_weather = float(line.replace('\\n', '').split()[3])\n",
    "    return min_weather"
   ]
  },
  {
   "cell_type": "code",
   "execution_count": 247,
   "metadata": {},
   "outputs": [
    {
     "name": "stdout",
     "output_type": "stream",
     "text": [
      "-8.0\n"
     ]
    }
   ],
   "source": [
    "with open('weather.txt', 'r', encoding='UTF8') as file:\n",
    "    print(min_weather_proc('2019-04-08', file))"
   ]
  },
  {
   "cell_type": "code",
   "execution_count": 248,
   "metadata": {},
   "outputs": [],
   "source": [
    "def max_weather_proc(birthday, file):\n",
    "    \"\"\"Birthday format: 'YYYY-MM-DD'\"\"\"\n",
    "    max_weather = -999999999999999\n",
    "    birthay_month = birthday[5:7]\n",
    "    birthday_day = birthday[8:10]\n",
    "    for line in file.readlines():\n",
    "        if int(line.replace('\\n', '').split()[1]) == int(birthay_month) and \\\n",
    "        int(line.replace('\\n', '').split()[2]) == int(birthday_day):\n",
    "            if float(line.replace('\\n', '').split()[3]) > max_weather: \n",
    "                max_weather = float(line.replace('\\n', '').split()[3])\n",
    "    return max_weather"
   ]
  },
  {
   "cell_type": "code",
   "execution_count": 249,
   "metadata": {},
   "outputs": [
    {
     "name": "stdout",
     "output_type": "stream",
     "text": [
      "12.8\n"
     ]
    }
   ],
   "source": [
    "with open('weather.txt', 'r', encoding='UTF8') as file:\n",
    "    print(max_weather_proc('2019-04-08', file))"
   ]
  },
  {
   "cell_type": "code",
   "execution_count": 250,
   "metadata": {},
   "outputs": [],
   "source": [
    "def min_weather_func(birthday, file):\n",
    "    return min(map(lambda x: x[2], list(filter(lambda x: x[0]==int(birthday[5:7]) \\\n",
    "                                                and x[1]==int(birthday[8:10]), \\\n",
    "                       list(map(lambda x: (int(x.replace('\\n', '').split()[1]),\\\n",
    "                                           int(x.replace('\\n', '').split()[2]),\\\n",
    "                                           float(x.replace('\\n', '').split()[3])),\\\n",
    "                                file.readlines()))))))"
   ]
  },
  {
   "cell_type": "code",
   "execution_count": 251,
   "metadata": {},
   "outputs": [
    {
     "name": "stdout",
     "output_type": "stream",
     "text": [
      "-8.0\n"
     ]
    }
   ],
   "source": [
    "with open('weather.txt', 'r', encoding='UTF8') as file:\n",
    "    print(min_weather_func('2019-04-08', file))"
   ]
  },
  {
   "cell_type": "code",
   "execution_count": 252,
   "metadata": {},
   "outputs": [],
   "source": [
    "def max_weather_func(birthday, file):\n",
    "    return max(map(lambda x: x[2], list(filter(lambda x: x[0]==int(birthday[5:7]) \\\n",
    "                                                and x[1]==int(birthday[8:10]), \\\n",
    "                       list(map(lambda x: (int(x.replace('\\n', '').split()[1]),\\\n",
    "                                           int(x.replace('\\n', '').split()[2]),\\\n",
    "                                           float(x.replace('\\n', '').split()[3])),\\\n",
    "                                file.readlines()))))))"
   ]
  },
  {
   "cell_type": "code",
   "execution_count": 253,
   "metadata": {},
   "outputs": [
    {
     "name": "stdout",
     "output_type": "stream",
     "text": [
      "12.8\n"
     ]
    }
   ],
   "source": [
    "with open('weather.txt', 'r', encoding='UTF8') as file:\n",
    "    print(max_weather_func('2019-04-08', file))"
   ]
  },
  {
   "cell_type": "code",
   "execution_count": null,
   "metadata": {},
   "outputs": [],
   "source": []
  }
 ],
 "metadata": {
  "kernelspec": {
   "display_name": "Python 3",
   "language": "python",
   "name": "python3"
  },
  "language_info": {
   "codemirror_mode": {
    "name": "ipython",
    "version": 3
   },
   "file_extension": ".py",
   "mimetype": "text/x-python",
   "name": "python",
   "nbconvert_exporter": "python",
   "pygments_lexer": "ipython3",
   "version": "3.4.3"
  }
 },
 "nbformat": 4,
 "nbformat_minor": 2
}

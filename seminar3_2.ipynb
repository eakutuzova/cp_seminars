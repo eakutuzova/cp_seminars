{
 "cells": [
  {
   "cell_type": "code",
   "execution_count": 33,
   "metadata": {},
   "outputs": [],
   "source": [
    "import numpy as np"
   ]
  },
  {
   "cell_type": "code",
   "execution_count": 34,
   "metadata": {},
   "outputs": [],
   "source": [
    "def min_max_avg_temperature(birthday, f):\n",
    "    \"\"\"Birthday format: 'YYYY-MM-DD'\"\"\"\n",
    "    np_arr = np.array([])\n",
    "    birthay_month = birthday[5:7]\n",
    "    birthday_day = birthday[8:10]\n",
    "    for line in f.readlines():\n",
    "        if int(line.replace('\\n', '').split()[1]) == int(birthay_month) and \\\n",
    "        int(line.replace('\\n', '').split()[2]) == int(birthday_day):\n",
    "            np_arr = np.append(np_arr, float(line.replace('\\n', '').split()[3]))\n",
    "    return {'min_temperature' : np.min(np_arr), \n",
    "            'max_temperature' : np.max(np_arr), \n",
    "            'avg_temperature' : np.average(np_arr)}"
   ]
  },
  {
   "cell_type": "code",
   "execution_count": 35,
   "metadata": {},
   "outputs": [
    {
     "name": "stdout",
     "output_type": "stream",
     "text": [
      "{'avg_temperature': 2.5820754716981136, 'max_temperature': 12.8, 'min_temperature': -8.0}\n"
     ]
    }
   ],
   "source": [
    "with open('weather.txt', 'r') as f:\n",
    "    print(min_max_avg_temperature('1999-04-08', f))"
   ]
  },
  {
   "cell_type": "code",
   "execution_count": null,
   "metadata": {},
   "outputs": [],
   "source": []
  }
 ],
 "metadata": {
  "kernelspec": {
   "display_name": "Python 2",
   "language": "python",
   "name": "python2"
  },
  "language_info": {
   "codemirror_mode": {
    "name": "ipython",
    "version": 2
   },
   "file_extension": ".py",
   "mimetype": "text/x-python",
   "name": "python",
   "nbconvert_exporter": "python",
   "pygments_lexer": "ipython2",
   "version": "2.7.6"
  }
 },
 "nbformat": 4,
 "nbformat_minor": 2
}

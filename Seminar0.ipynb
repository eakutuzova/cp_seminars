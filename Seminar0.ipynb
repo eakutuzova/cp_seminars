{
 "cells": [
  {
   "cell_type": "code",
   "execution_count": 16,
   "metadata": {},
   "outputs": [
    {
     "data": {
      "text/plain": [
       "'Это очень просто. Ножницы режут бумагу, бумага накрывает камень, камень давит ящерицу, ящерица травит Спока, Спок ломает ножницы, ножницы отрезают голову ящерице, ящерица ест бумагу, бумага ложится под Спока, Спок испаряет камень, и, как обычно, камень разбивает ножницы.'"
      ]
     },
     "execution_count": 16,
     "metadata": {},
     "output_type": "execute_result"
    }
   ],
   "source": [
    "s = 'Это очень просто. Ножницы режут бумагу, бумага накрывает камень, камень давит ящерицу, ящерица травит Спока, Спок ломает ножницы, ножницы отрезают голову ящерице, ящерица ест бумагу, бумага ложится под Спока, Спок испаряет камень, и, как обычно, камень разбивает ножницы.'\n",
    "s"
   ]
  },
  {
   "cell_type": "code",
   "execution_count": 30,
   "metadata": {},
   "outputs": [
    {
     "data": {
      "text/plain": [
       "{'давит': ('камень', 'ящерицу'),\n",
       " 'ест': ('ящерица', 'бумагу'),\n",
       " 'испаряет': ('спок', 'камень'),\n",
       " 'ложится под': ('бумага', 'спока'),\n",
       " 'ломает': ('спок', 'ножницы'),\n",
       " 'накрывает': ('бумага', 'камень'),\n",
       " 'отрезают голову': ('ножницы', 'ящерице'),\n",
       " 'разбивает': ('камень', 'ножницы'),\n",
       " 'режут': ('ножницы', 'бумагу'),\n",
       " 'травит': ('ящерица', 'спока')}"
      ]
     },
     "execution_count": 30,
     "metadata": {},
     "output_type": "execute_result"
    }
   ],
   "source": [
    "dct = {}\n",
    "new_s = s.split('. ')[1]\n",
    "for strings in new_s.lower().split(', '):\n",
    "    lst = strings.split(' ')\n",
    "    if len(lst)>=3:\n",
    "        if len(lst)==3:\n",
    "            dct.update({lst[1].replace(', .', ''): (lst[0].replace('.', ''), lst[2].replace('.', ''))})\n",
    "        else:\n",
    "            a = \"\"\n",
    "            for elem in lst[1: len(lst)-1]:\n",
    "                a = a + elem +' '\n",
    "            dct.update({a[:-1]: (lst[0].replace('.', ''), lst[len(lst)-1].replace('.', ''))})\n",
    "            \n",
    "dct"
   ]
  },
  {
   "cell_type": "code",
   "execution_count": null,
   "metadata": {},
   "outputs": [],
   "source": []
  }
 ],
 "metadata": {
  "kernelspec": {
   "display_name": "Python 3",
   "language": "python",
   "name": "python3"
  },
  "language_info": {
   "codemirror_mode": {
    "name": "ipython",
    "version": 3
   },
   "file_extension": ".py",
   "mimetype": "text/x-python",
   "name": "python",
   "nbconvert_exporter": "python",
   "pygments_lexer": "ipython3",
   "version": "3.4.3"
  }
 },
 "nbformat": 4,
 "nbformat_minor": 2
}

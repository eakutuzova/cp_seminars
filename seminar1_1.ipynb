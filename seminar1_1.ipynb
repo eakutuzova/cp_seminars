{
 "cells": [
  {
   "cell_type": "code",
   "execution_count": 150,
   "metadata": {},
   "outputs": [],
   "source": [
    "from string import ascii_letters, whitespace\n"
   ]
  },
  {
   "cell_type": "code",
   "execution_count": 151,
   "metadata": {},
   "outputs": [],
   "source": [
    "f = open('alice.txt_Ascii.txt', 'r', encoding='utf-8')\n"
   ]
  },
  {
   "cell_type": "code",
   "execution_count": 152,
   "metadata": {},
   "outputs": [],
   "source": [
    "good_chars = (ascii_letters + whitespace).encode()\n",
    "junk_chars = bytearray(set(range(0x100)) - set(good_chars))"
   ]
  },
  {
   "cell_type": "code",
   "execution_count": 153,
   "metadata": {},
   "outputs": [],
   "source": [
    "def clean(text):\n",
    "    return text.encode('ascii', 'ignore').translate(None, junk_chars).decode()"
   ]
  },
  {
   "cell_type": "code",
   "execution_count": 154,
   "metadata": {},
   "outputs": [],
   "source": [
    "lst = []\n",
    "for line in f.readlines():\n",
    "    lst.append(clean(line).replace('\\n', '').lower())"
   ]
  },
  {
   "cell_type": "code",
   "execution_count": 155,
   "metadata": {},
   "outputs": [],
   "source": [
    "f.close()"
   ]
  },
  {
   "cell_type": "code",
   "execution_count": 156,
   "metadata": {},
   "outputs": [],
   "source": [
    "wordcount = {}\n",
    "for string in lst:\n",
    "    for word in string.split(' '):\n",
    "        if len(word)>0:\n",
    "            if word not in wordcount:\n",
    "                wordcount[word] = 1\n",
    "            else:\n",
    "                wordcount[word] += 1\n"
   ]
  },
  {
   "cell_type": "code",
   "execution_count": 157,
   "metadata": {},
   "outputs": [],
   "source": [
    "def top_n_words(dct, n):\n",
    "    list_d = list(dct.items())\n",
    "    list_d.sort(key=lambda i: i[1], reverse=True)\n",
    "    return list_d[:n]"
   ]
  },
  {
   "cell_type": "code",
   "execution_count": 158,
   "metadata": {},
   "outputs": [],
   "source": [
    "a = top_n_words(wordcount, 20)"
   ]
  },
  {
   "cell_type": "code",
   "execution_count": 159,
   "metadata": {},
   "outputs": [
    {
     "data": {
      "text/plain": [
       "[('the', 1638),\n",
       " ('and', 851),\n",
       " ('to', 740),\n",
       " ('a', 629),\n",
       " ('she', 536),\n",
       " ('it', 525),\n",
       " ('of', 517),\n",
       " ('said', 460),\n",
       " ('i', 401),\n",
       " ('alice', 385),\n",
       " ('in', 374),\n",
       " ('you', 370),\n",
       " ('was', 356),\n",
       " ('that', 278),\n",
       " ('as', 271),\n",
       " ('her', 247),\n",
       " ('at', 210),\n",
       " ('on', 195),\n",
       " ('with', 184),\n",
       " ('all', 183)]"
      ]
     },
     "execution_count": 159,
     "metadata": {},
     "output_type": "execute_result"
    }
   ],
   "source": [
    "a"
   ]
  },
  {
   "cell_type": "code",
   "execution_count": null,
   "metadata": {},
   "outputs": [],
   "source": []
  },
  {
   "cell_type": "code",
   "execution_count": null,
   "metadata": {},
   "outputs": [],
   "source": []
  }
 ],
 "metadata": {
  "kernelspec": {
   "display_name": "Python 3",
   "language": "python",
   "name": "python3"
  },
  "language_info": {
   "codemirror_mode": {
    "name": "ipython",
    "version": 3
   },
   "file_extension": ".py",
   "mimetype": "text/x-python",
   "name": "python",
   "nbconvert_exporter": "python",
   "pygments_lexer": "ipython3",
   "version": "3.4.3"
  }
 },
 "nbformat": 4,
 "nbformat_minor": 2
}

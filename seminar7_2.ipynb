{
 "cells": [
  {
   "cell_type": "code",
   "execution_count": 75,
   "metadata": {},
   "outputs": [],
   "source": [
    "import functools\n",
    "\n",
    "\n",
    "def error_decorator(func):\n",
    "    @functools.wraps(func)\n",
    "    def wrapped(*args, **kwargs):\n",
    "        try:\n",
    "            res = func(*args, **kwargs)\n",
    "            print('%r No Exceptions!'%func.__name__)\n",
    "            f = open('exceptions.txt', 'at')\n",
    "            f.write('%r No Exceptions! \\n'%(func.__name__))\n",
    "            f.close() \n",
    "            return res\n",
    "        except Exception as e:\n",
    "            f = open('exceptions.txt', 'at')\n",
    "            f.write('%r Error: %r\\n'%(func.__name__, e))\n",
    "            f.close()\n",
    "            print(e)\n",
    "    return wrapped"
   ]
  },
  {
   "cell_type": "code",
   "execution_count": 76,
   "metadata": {},
   "outputs": [],
   "source": [
    "@error_decorator\n",
    "def my_func(x, y):\n",
    "    return x+y\n"
   ]
  },
  {
   "cell_type": "code",
   "execution_count": 77,
   "metadata": {},
   "outputs": [
    {
     "name": "stdout",
     "output_type": "stream",
     "text": [
      "unsupported operand type(s) for +: 'int' and 'str'\n"
     ]
    }
   ],
   "source": [
    "my_func(1, '3')"
   ]
  },
  {
   "cell_type": "code",
   "execution_count": 78,
   "metadata": {},
   "outputs": [
    {
     "name": "stdout",
     "output_type": "stream",
     "text": [
      "'my_func' No Exceptions!\n"
     ]
    },
    {
     "data": {
      "text/plain": [
       "3"
      ]
     },
     "execution_count": 78,
     "metadata": {},
     "output_type": "execute_result"
    }
   ],
   "source": [
    "my_func(1, 2)"
   ]
  },
  {
   "cell_type": "code",
   "execution_count": 79,
   "metadata": {},
   "outputs": [
    {
     "name": "stdout",
     "output_type": "stream",
     "text": [
      "my_func() takes exactly 2 arguments (1 given)\n"
     ]
    }
   ],
   "source": [
    "my_func(1,)"
   ]
  },
  {
   "cell_type": "code",
   "execution_count": 81,
   "metadata": {},
   "outputs": [
    {
     "name": "stdout",
     "output_type": "stream",
     "text": [
      "'my_func' Error: TypeError(\"unsupported operand type(s) for +: 'int' and 'str'\",)\n",
      "\n",
      "'my_func' No Exceptions! \n",
      "\n",
      "'my_func' Error: TypeError('my_func() takes exactly 2 arguments (1 given)',)\n",
      "\n"
     ]
    }
   ],
   "source": [
    "with open('exceptions.txt', 'r') as f:\n",
    "    for line in f.readlines():\n",
    "        print(line)"
   ]
  },
  {
   "cell_type": "code",
   "execution_count": 87,
   "metadata": {},
   "outputs": [],
   "source": [
    "@error_decorator\n",
    "def value_error_func():\n",
    "    raise ValueError(\"Incorrect value\")\n",
    "    \n",
    "    \n",
    "@error_decorator\n",
    "def type_error_func():\n",
    "    raise TypeError(\"Unsupported type\")"
   ]
  },
  {
   "cell_type": "code",
   "execution_count": 88,
   "metadata": {},
   "outputs": [
    {
     "name": "stdout",
     "output_type": "stream",
     "text": [
      "Incorrect value\n"
     ]
    }
   ],
   "source": [
    "value_error_func()"
   ]
  },
  {
   "cell_type": "code",
   "execution_count": 89,
   "metadata": {},
   "outputs": [
    {
     "name": "stdout",
     "output_type": "stream",
     "text": [
      "Unsupported type\n"
     ]
    }
   ],
   "source": [
    "type_error_func()"
   ]
  },
  {
   "cell_type": "code",
   "execution_count": 90,
   "metadata": {},
   "outputs": [
    {
     "name": "stdout",
     "output_type": "stream",
     "text": [
      "'my_func' Error: TypeError(\"unsupported operand type(s) for +: 'int' and 'str'\",)\n",
      "\n",
      "'my_func' No Exceptions! \n",
      "\n",
      "'my_func' Error: TypeError('my_func() takes exactly 2 arguments (1 given)',)\n",
      "\n",
      "'value_error_func' Error: ValueError('Incorrect value',)\n",
      "\n",
      "'type_error_func' Error: TypeError('Unsupported type',)\n",
      "\n"
     ]
    }
   ],
   "source": [
    "with open('exceptions.txt', 'r') as f:\n",
    "    for line in f.readlines():\n",
    "        print(line)"
   ]
  },
  {
   "cell_type": "code",
   "execution_count": null,
   "metadata": {},
   "outputs": [],
   "source": []
  }
 ],
 "metadata": {
  "kernelspec": {
   "display_name": "Python 2",
   "language": "python",
   "name": "python2"
  },
  "language_info": {
   "codemirror_mode": {
    "name": "ipython",
    "version": 2
   },
   "file_extension": ".py",
   "mimetype": "text/x-python",
   "name": "python",
   "nbconvert_exporter": "python",
   "pygments_lexer": "ipython2",
   "version": "2.7.6"
  }
 },
 "nbformat": 4,
 "nbformat_minor": 2
}

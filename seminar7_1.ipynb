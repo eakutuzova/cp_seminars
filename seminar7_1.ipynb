{
 "cells": [
  {
   "cell_type": "code",
   "execution_count": 484,
   "metadata": {},
   "outputs": [],
   "source": [
    "from matplotlib import pyplot as plt\n",
    "from matplotlib import patches\n",
    "import shapely.geometry as sg\n",
    "import descartes"
   ]
  },
  {
   "cell_type": "code",
   "execution_count": 485,
   "metadata": {},
   "outputs": [],
   "source": [
    "class Point(object):\n",
    "    def __init__(self, x, y):\n",
    "        self.x = x\n",
    "        self.y = y\n",
    "        \n",
    "    def draw(self, ax):\n",
    "        return ax.scatter(self.x, self.y, marker='.', color='b')"
   ]
  },
  {
   "cell_type": "code",
   "execution_count": 486,
   "metadata": {},
   "outputs": [],
   "source": [
    "class Shape(Point):\n",
    "    def __init__(self, x, y):\n",
    "        super(Shape, self).__init__(x, y)\n",
    "        \n",
    "    def draw(self, ax):\n",
    "        return ax.scatter(self.x, self.y, marker='x', color='b')\n",
    "        \n",
    "    def is_inside(self, some_point):\n",
    "        if 'Point' in str(type(some_point)):\n",
    "            if self.x == some_point.x and self.y == some_point.y:\n",
    "                return True\n",
    "            else:\n",
    "                return False\n",
    "        else:\n",
    "            raise TypeError"
   ]
  },
  {
   "cell_type": "code",
   "execution_count": 487,
   "metadata": {},
   "outputs": [],
   "source": [
    "class Square(Shape):\n",
    "    def __init__(self, x, y, width):\n",
    "        super(Square, self).__init__(x, y)\n",
    "        self.width = width\n",
    "        \n",
    "    def draw(self, ax):\n",
    "        rectangle = plt.Rectangle((self.x-self.width/2., self.y-self.width/2.), \n",
    "                                  self.width, \n",
    "                                  self.width, \n",
    "                                  fill=False, \n",
    "                                  edgecolor='b')\n",
    "        return ax.add_patch(rectangle)\n",
    "    def is_inside(self, some_point):\n",
    "        if 'Point' in str(type(some_point)):\n",
    "            if some_point.x>=self.x-self.width/2. and some_point.x<=self.x+self.width/2:\n",
    "                if some_point.y>=self.y-self.width/2. and some_point.y<=self.y+self.width/2:\n",
    "                    return True\n",
    "                else:\n",
    "                    return False\n",
    "            else:\n",
    "                return False\n",
    "        else:\n",
    "            raise TypeError"
   ]
  },
  {
   "cell_type": "code",
   "execution_count": 488,
   "metadata": {},
   "outputs": [],
   "source": [
    "class Circle(Shape):\n",
    "    def __init__(self, x, y, radius):\n",
    "        super(Circle, self).__init__(x, y)\n",
    "        self.radius = radius\n",
    "        \n",
    "    def draw(self, ax):\n",
    "        circle = plt.Circle((self.x, self.y), self.radius, fill=False, edgecolor='b')\n",
    "        return ax.add_patch(circle)\n",
    "    \n",
    "    def is_inside(self, some_point):\n",
    "        if 'Point' in str(type(some_point)):\n",
    "            if (self.x-some_point.x)**2 + (self.y-some_point.y)**2 <= self.radius**2:\n",
    "                return True\n",
    "            else:\n",
    "                return False          \n",
    "        else:\n",
    "            raise TypeError"
   ]
  },
  {
   "cell_type": "code",
   "execution_count": 489,
   "metadata": {},
   "outputs": [],
   "source": [
    "class Union(Shape):\n",
    "    def __init__(self, x_circle, y_circle, radius, x_square, y_square, width):\n",
    "        self.x_circle = x_circle\n",
    "        self.y_circle = y_circle\n",
    "        self.radius = radius\n",
    "        self.x_square = x_square\n",
    "        self.y_square = y_square\n",
    "        self.width = width\n",
    "        \n",
    "    def draw(self, ax):\n",
    "        circle = sg.Point(self.x_circle, self.y_circle).buffer(self.radius)\n",
    "        square = sg.Polygon([(self.x_square - self.width, self.y_square - self.width), \n",
    "                             (self.x_square + self.width, self.y_square - self.width),\n",
    "                             (self.x_square + self.width, self.y_square + self.width), \n",
    "                             (self.x_square - self.width, self.y_square + self.width)])\n",
    "        union = circle.union(square)\n",
    "        return ax.add_patch(descartes.PolygonPatch(union, fc='b', ec='k'))\n",
    "    \n",
    "    def is_inside(self, some_point):\n",
    "        if 'Point' in str(type(some_point)):\n",
    "            if some_point.x>=self.x_square-self.width/2. and some_point.x<=self.x_square+self.width/2:\n",
    "                if some_point.y>=self.y_square-self.width/2. and some_point.y<=self.y_square+self.width/2:\n",
    "                    return True\n",
    "                else:\n",
    "                    if (self.x_circle-some_point.x)**2 + (self.y_circle-some_point.y)**2 <= self.radius**2:\n",
    "                        return True\n",
    "                    else:\n",
    "                        return False  \n",
    "            else:\n",
    "                if (self.x_circle-some_point.x)**2 + (self.y_circle-some_point.y)**2 <= self.radius**2:\n",
    "                    return True\n",
    "                else:\n",
    "                    return False\n",
    "        else:\n",
    "            raise TypeError"
   ]
  },
  {
   "cell_type": "code",
   "execution_count": 490,
   "metadata": {},
   "outputs": [],
   "source": [
    "class Intersection(Shape):\n",
    "    def __init__(self, x_circle, y_circle, radius, x_square, y_square, width):\n",
    "        self.x_circle = x_circle\n",
    "        self.y_circle = y_circle\n",
    "        self.radius = radius\n",
    "        self.x_square = x_square\n",
    "        self.y_square = y_square\n",
    "        self.width = width\n",
    "        \n",
    "    def draw(self, ax):\n",
    "        circle = sg.Point(self.x_circle, self.y_circle).buffer(self.radius)\n",
    "        square = sg.Polygon([(self.x_square - self.width, self.y_square - self.width), \n",
    "                             (self.x_square + self.width, self.y_square - self.width),\n",
    "                             (self.x_square + self.width, self.y_square + self.width), \n",
    "                             (self.x_square - self.width, self.y_square + self.width)])        \n",
    "        try: \n",
    "            intersection = circle.intersection(square)\n",
    "            return ax.add_patch(descartes.PolygonPatch(intersection, fc='b', ec='k'))\n",
    "        except ValueError:\n",
    "            return ax\n",
    "        \n",
    "    def is_inside(self, some_point):\n",
    "        if 'Point' in str(type(some_point)):\n",
    "            if some_point.x>=self.x_square-self.width/2. and some_point.x<=self.x_square+self.width/2:\n",
    "                if some_point.y>=self.y_square-self.width/2. and some_point.y<=self.y_square+self.width/2:\n",
    "                    if (self.x_circle-some_point.x)**2 + (self.y_circle-some_point.y)**2 <= self.radius**2:\n",
    "                        return True\n",
    "                    else:\n",
    "                        return False\n",
    "                else: \n",
    "                    return False\n",
    "            else:\n",
    "                return False\n",
    "        else:\n",
    "            raise TypeError"
   ]
  },
  {
   "cell_type": "code",
   "execution_count": 491,
   "metadata": {},
   "outputs": [],
   "source": [
    "p = Point(3, 4)"
   ]
  },
  {
   "cell_type": "code",
   "execution_count": 492,
   "metadata": {},
   "outputs": [],
   "source": [
    "c = Shape(2, 3)"
   ]
  },
  {
   "cell_type": "code",
   "execution_count": 493,
   "metadata": {},
   "outputs": [
    {
     "data": {
      "text/plain": [
       "True"
      ]
     },
     "execution_count": 493,
     "metadata": {},
     "output_type": "execute_result"
    }
   ],
   "source": [
    "c.is_inside(Point(2, 3))"
   ]
  },
  {
   "cell_type": "code",
   "execution_count": 494,
   "metadata": {},
   "outputs": [
    {
     "data": {
      "text/plain": [
       "False"
      ]
     },
     "execution_count": 494,
     "metadata": {},
     "output_type": "execute_result"
    }
   ],
   "source": [
    "c.is_inside(p)"
   ]
  },
  {
   "cell_type": "code",
   "execution_count": 495,
   "metadata": {},
   "outputs": [],
   "source": [
    "s = Square(1, 1, 1)"
   ]
  },
  {
   "cell_type": "code",
   "execution_count": 496,
   "metadata": {},
   "outputs": [
    {
     "data": {
      "text/plain": [
       "False"
      ]
     },
     "execution_count": 496,
     "metadata": {},
     "output_type": "execute_result"
    }
   ],
   "source": [
    "s.is_inside(p)"
   ]
  },
  {
   "cell_type": "code",
   "execution_count": 497,
   "metadata": {},
   "outputs": [
    {
     "data": {
      "text/plain": [
       "True"
      ]
     },
     "execution_count": 497,
     "metadata": {},
     "output_type": "execute_result"
    }
   ],
   "source": [
    "s.is_inside(Point(1, 1))"
   ]
  },
  {
   "cell_type": "code",
   "execution_count": 498,
   "metadata": {},
   "outputs": [
    {
     "ename": "TypeError",
     "evalue": "",
     "output_type": "error",
     "traceback": [
      "\u001b[0;31m\u001b[0m",
      "\u001b[0;31mTypeError\u001b[0mTraceback (most recent call last)",
      "\u001b[0;32m<ipython-input-498-90c8ba74928a>\u001b[0m in \u001b[0;36m<module>\u001b[0;34m()\u001b[0m\n\u001b[0;32m----> 1\u001b[0;31m \u001b[0ms\u001b[0m\u001b[0;34m.\u001b[0m\u001b[0mis_inside\u001b[0m\u001b[0;34m(\u001b[0m\u001b[0mSquare\u001b[0m\u001b[0;34m(\u001b[0m\u001b[0;36m1\u001b[0m\u001b[0;34m,\u001b[0m \u001b[0;36m1\u001b[0m\u001b[0;34m,\u001b[0m \u001b[0;36m1\u001b[0m\u001b[0;34m)\u001b[0m\u001b[0;34m)\u001b[0m\u001b[0;34m\u001b[0m\u001b[0m\n\u001b[0m",
      "\u001b[0;32m<ipython-input-487-8aa1a327fa0c>\u001b[0m in \u001b[0;36mis_inside\u001b[0;34m(self, some_point)\u001b[0m\n\u001b[1;32m     21\u001b[0m                 \u001b[0;32mreturn\u001b[0m \u001b[0mFalse\u001b[0m\u001b[0;34m\u001b[0m\u001b[0m\n\u001b[1;32m     22\u001b[0m         \u001b[0;32melse\u001b[0m\u001b[0;34m:\u001b[0m\u001b[0;34m\u001b[0m\u001b[0m\n\u001b[0;32m---> 23\u001b[0;31m             \u001b[0;32mraise\u001b[0m \u001b[0mTypeError\u001b[0m\u001b[0;34m\u001b[0m\u001b[0m\n\u001b[0m",
      "\u001b[0;31mTypeError\u001b[0m: "
     ]
    }
   ],
   "source": [
    "s.is_inside(Square(1, 1, 1))"
   ]
  },
  {
   "cell_type": "code",
   "execution_count": 499,
   "metadata": {},
   "outputs": [],
   "source": [
    "m = Circle(0, 0, 0.1)"
   ]
  },
  {
   "cell_type": "code",
   "execution_count": 500,
   "metadata": {},
   "outputs": [],
   "source": [
    "q = Circle(1, 1, 1)"
   ]
  },
  {
   "cell_type": "code",
   "execution_count": 501,
   "metadata": {},
   "outputs": [],
   "source": [
    "p1 = Point(1, 3)"
   ]
  },
  {
   "cell_type": "code",
   "execution_count": 502,
   "metadata": {},
   "outputs": [],
   "source": [
    "c1 = Shape(0, 4)"
   ]
  },
  {
   "cell_type": "code",
   "execution_count": 503,
   "metadata": {},
   "outputs": [],
   "source": [
    "s1 = Square(2, 2, 0.5)"
   ]
  },
  {
   "cell_type": "code",
   "execution_count": 504,
   "metadata": {},
   "outputs": [],
   "source": [
    "un = Union(1, 2.5, 0.5, 1, 3.4, 0.5)"
   ]
  },
  {
   "cell_type": "code",
   "execution_count": 505,
   "metadata": {},
   "outputs": [
    {
     "data": {
      "text/plain": [
       "False"
      ]
     },
     "execution_count": 505,
     "metadata": {},
     "output_type": "execute_result"
    }
   ],
   "source": [
    "un.is_inside(p)"
   ]
  },
  {
   "cell_type": "code",
   "execution_count": 506,
   "metadata": {},
   "outputs": [
    {
     "data": {
      "text/plain": [
       "True"
      ]
     },
     "execution_count": 506,
     "metadata": {},
     "output_type": "execute_result"
    }
   ],
   "source": [
    "un.is_inside(Point(1, 3))"
   ]
  },
  {
   "cell_type": "code",
   "execution_count": 507,
   "metadata": {},
   "outputs": [],
   "source": [
    "inter = Intersection(2.5, 4.5, 0.5, 3, 4, 0.5)"
   ]
  },
  {
   "cell_type": "code",
   "execution_count": 508,
   "metadata": {},
   "outputs": [],
   "source": [
    "inter2 = Intersection(2.5, 1.5, 0.5, 2.5, 2, 0.5)"
   ]
  },
  {
   "cell_type": "code",
   "execution_count": 509,
   "metadata": {},
   "outputs": [
    {
     "data": {
      "text/plain": [
       "False"
      ]
     },
     "execution_count": 509,
     "metadata": {},
     "output_type": "execute_result"
    }
   ],
   "source": [
    "inter.is_inside(p)"
   ]
  },
  {
   "cell_type": "code",
   "execution_count": 510,
   "metadata": {},
   "outputs": [
    {
     "data": {
      "text/plain": [
       "True"
      ]
     },
     "execution_count": 510,
     "metadata": {},
     "output_type": "execute_result"
    }
   ],
   "source": [
    "inter.is_inside(Point(2.75, 4.1))"
   ]
  },
  {
   "cell_type": "code",
   "execution_count": 511,
   "metadata": {},
   "outputs": [
    {
     "data": {
      "image/png": "[encoded data removed]",
      "text/plain": [
       "<Figure size 1080x576 with 1 Axes>"
      ]
     },
     "metadata": {},
     "output_type": "display_data"
    }
   ],
   "source": [
    "fig, ax = plt.subplots(figsize=(15, 8))\n",
    "\n",
    "fig = m.draw(ax)\n",
    "fig = s.draw(ax)\n",
    "fig = p.draw(ax)\n",
    "fig = c.draw(ax)\n",
    "fig = q.draw(ax)\n",
    "fig = p1.draw(ax)\n",
    "fig = c1.draw(ax)\n",
    "fig = s1.draw(ax)\n",
    "fig = un.draw(ax)\n",
    "fig = inter.draw(ax)\n",
    "fig = inter2.draw(ax)\n",
    "ax.set_aspect('equal')"
   ]
  },
  {
   "cell_type": "code",
   "execution_count": null,
   "metadata": {},
   "outputs": [],
   "source": []
  },
  {
   "cell_type": "code",
   "execution_count": null,
   "metadata": {},
   "outputs": [],
   "source": []
  }
 ],
 "metadata": {
  "kernelspec": {
   "display_name": "Python 2",
   "language": "python",
   "name": "python2"
  },
  "language_info": {
   "codemirror_mode": {
    "name": "ipython",
    "version": 2
   },
   "file_extension": ".py",
   "mimetype": "text/x-python",
   "name": "python",
   "nbconvert_exporter": "python",
   "pygments_lexer": "ipython2",
   "version": "2.7.6"
  }
 },
 "nbformat": 4,
 "nbformat_minor": 2
}

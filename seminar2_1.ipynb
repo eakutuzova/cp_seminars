{
 "cells": [
  {
   "cell_type": "code",
   "execution_count": 89,
   "metadata": {},
   "outputs": [],
   "source": [
    "def func_function(n, rules, axiom):\n",
    "    return axiom if not n else ''.join(map(lambda s:rules.get(s,s), evaluate(n-1, rules, axiom)))"
   ]
  },
  {
   "cell_type": "code",
   "execution_count": 90,
   "metadata": {},
   "outputs": [],
   "source": [
    "def proc_function(n, rules, axiom):\n",
    "    answer = \"\"\n",
    "    new_answer = \"\"\n",
    "    if n == 0:\n",
    "        return axiom\n",
    "    else:\n",
    "        for i in range(n):\n",
    "            if len(answer) == 0:\n",
    "                for letter in axiom:\n",
    "                    if rules.get(letter):\n",
    "                        answer += rules.get(letter)\n",
    "                    else:\n",
    "                        answer += letter\n",
    "            else:\n",
    "                for letter in answer:\n",
    "                    if rules.get(letter):\n",
    "                        new_answer += rules.get(letter)\n",
    "                    else:\n",
    "                        new_answer += letter\n",
    "                answer = new_answer\n",
    "                new_answer = \"\"\n",
    "        return answer"
   ]
  },
  {
   "cell_type": "code",
   "execution_count": 91,
   "metadata": {},
   "outputs": [],
   "source": [
    "def L_systems(func, L_systems, system_name, n=5):\n",
    "    return func(n, lsystems[system_name][0], lsystems[system_name][1])\n",
    "            "
   ]
  },
  {
   "cell_type": "code",
   "execution_count": 92,
   "metadata": {},
   "outputs": [],
   "source": [
    "lsystems = {\n",
    "    'serpinsky': ({'F':'F-G+F+G-F', 'G':'GG'}, 'F-G-G'),\n",
    "    'koch' : ({'F': 'F+F−F−F+F'}, 'F'),\n",
    "    'dragon' : ({'X' : 'X+YF+', 'Y' : '−FX−Y'}, 'FX'),\n",
    "}"
   ]
  },
  {
   "cell_type": "code",
   "execution_count": 93,
   "metadata": {},
   "outputs": [
    {
     "data": {
      "text/plain": [
       "True"
      ]
     },
     "execution_count": 93,
     "metadata": {},
     "output_type": "execute_result"
    }
   ],
   "source": [
    "L_systems(proc_function, lsystems, 'serpinsky', 5) == L_systems(func_function, lsystems, 'serpinsky', 5)"
   ]
  },
  {
   "cell_type": "code",
   "execution_count": 94,
   "metadata": {},
   "outputs": [
    {
     "data": {
      "text/plain": [
       "True"
      ]
     },
     "execution_count": 94,
     "metadata": {},
     "output_type": "execute_result"
    }
   ],
   "source": [
    "L_systems(proc_function, lsystems, 'koch', 5) == L_systems(func_function, lsystems, 'koch', 5)"
   ]
  },
  {
   "cell_type": "code",
   "execution_count": 95,
   "metadata": {},
   "outputs": [
    {
     "data": {
      "text/plain": [
       "True"
      ]
     },
     "execution_count": 95,
     "metadata": {},
     "output_type": "execute_result"
    }
   ],
   "source": [
    "L_systems(proc_function, lsystems, 'dragon', 5) == L_systems(func_function, lsystems, 'dragon', 5)"
   ]
  },
  {
   "cell_type": "markdown",
   "metadata": {},
   "source": [
    "Так короче супер странное задание, я не знаю насколько я правильно его поняла.\n",
    "В чем прикол?? Что писать функционально - коротко и непонятно, а процедурно - длинно и понятно??\n",
    "Могу ли я туда передавать такие сложные конструкции как lsystems? Или лучше не надо? \n",
    "АААААААААААА кодстайл сводит меня с ума, че я могу, че я не могу, а как красивее...\n",
    "Раньше мне хватало того, что оно работает("
   ]
  },
  {
   "cell_type": "code",
   "execution_count": null,
   "metadata": {},
   "outputs": [],
   "source": [
    " "
   ]
  }
 ],
 "metadata": {
  "kernelspec": {
   "display_name": "Python 3",
   "language": "python",
   "name": "python3"
  },
  "language_info": {
   "codemirror_mode": {
    "name": "ipython",
    "version": 3
   },
   "file_extension": ".py",
   "mimetype": "text/x-python",
   "name": "python",
   "nbconvert_exporter": "python",
   "pygments_lexer": "ipython3",
   "version": "3.4.3"
  }
 },
 "nbformat": 4,
 "nbformat_minor": 2
}

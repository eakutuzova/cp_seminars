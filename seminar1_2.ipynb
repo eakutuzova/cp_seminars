{
 "cells": [
  {
   "cell_type": "code",
   "execution_count": 225,
   "metadata": {},
   "outputs": [],
   "source": [
    "file = open('em16_edm_v00.tf', 'r')"
   ]
  },
  {
   "cell_type": "code",
   "execution_count": 226,
   "metadata": {},
   "outputs": [],
   "source": [
    "my_str = \"\"\n",
    "flg = 0\n",
    "lst = []\n",
    "for line in file.readlines():\n",
    "    if flg == 0:\n",
    "        if line.find(r'begindata')>=0:\n",
    "            flg = 1\n",
    "    else:\n",
    "        if line.find(r'begintext')==-1:\n",
    "            my_str += line\n",
    "        else:\n",
    "            lst.append(my_str)\n",
    "            flg = 0\n",
    "            my_str = \"\""
   ]
  },
  {
   "cell_type": "code",
   "execution_count": 227,
   "metadata": {},
   "outputs": [],
   "source": [
    "file.close()"
   ]
  },
  {
   "cell_type": "code",
   "execution_count": 228,
   "metadata": {},
   "outputs": [
    {
     "name": "stdout",
     "output_type": "stream",
     "text": [
      "\n",
      "      FRAME_EDM_LANDER                 = -117000\n",
      "      FRAME_-117000_NAME               = 'EDM_LANDER'\n",
      "      FRAME_-117000_CLASS              =  3\n",
      "      FRAME_-117000_CLASS_ID           = -117000\n",
      "      FRAME_-117000_CENTER             = -117\n",
      "      CK_-117000_SCLK                  = -117\n",
      "      CK_-117000_SPK                   = -117\n",
      "      OBJECT_-117_FRAME                = 'EDM_LANDER'\n",
      "\n",
      "      FRAME_EDM_LANDER_CRUISE          = -117001\n",
      "      FRAME_-117001_NAME               = 'EDM_LANDER_CRUISE'\n",
      "      FRAME_-117001_CLASS              =  3\n",
      "      FRAME_-117001_CLASS_ID           = -117001\n",
      "      FRAME_-117001_CENTER             = -117\n",
      "      CK_-117001_SCLK                  = -117\n",
      "      CK_-117001_SPK                   = -117\n",
      "      OBJECT_-117_FRAME                = 'EDM_LANDER_CRUISE'\n",
      "\n",
      "\n",
      "\n",
      "       FRAME_EDM_TOPO               = -117900\n",
      "       FRAME_-117900_NAME           = 'EDM_TOPO'\n",
      "       FRAME_-117900_CLASS          =  4\n",
      "       FRAME_-117900_CLASS_ID       =  -117900\n",
      "       FRAME_-117900_CENTER         =  -117900\n",
      "\n",
      "       TKFRAME_-117900_RELATIVE     = 'IAU_MARS'\n",
      "       TKFRAME_-117900_SPEC         = 'ANGLES'\n",
      "       TKFRAME_-117900_UNITS        = 'DEGREES'\n",
      "       TKFRAME_-117900_AXES         = ( 3, 2, 3 )\n",
      "       TKFRAME_-117900_ANGLES       = ( 6.15, -91.82, 180.000  )\n",
      "\n",
      "\n",
      "  \n",
      "      FRAME_EDM_SURFACE_FIXED      =  -117901\n",
      "      FRAME_-117901_NAME           = 'EDM_SURFACE_FIXED'\n",
      "      FRAME_-117901_CLASS          =  4\n",
      "      FRAME_-117901_CLASS_ID       =  -117901\n",
      "      FRAME_-117901_CENTER         =  -117\n",
      "\n",
      "      TKFRAME_-117901_RELATIVE     = 'EDM_TOPO'\n",
      "      TKFRAME_-117901_SPEC         = 'ANGLES'\n",
      "      TKFRAME_-117901_UNITS        = 'DEGREES'\n",
      "      TKFRAME_-117901_AXES         = ( 1,      2,      3     )\n",
      "      TKFRAME_-117901_ANGLES       = ( 0.000,  0.000,  0.000 )\n",
      "\n",
      "\n",
      "\n",
      "      FRAME_EDM_LANDED_LOCAL       =  -117903\n",
      "      FRAME_-117903_NAME           = 'EDM_LANDED_LOCAL'\n",
      "      FRAME_-117903_CLASS          =  4\n",
      "      FRAME_-117903_CLASS_ID       =  -117903\n",
      "      FRAME_-117903_CENTER         =  -117\n",
      "\n",
      "      TKFRAME_-117903_RELATIVE     = 'EDM_TOPO'\n",
      "      TKFRAME_-117903_SPEC         = 'ANGLES'\n",
      "      TKFRAME_-117903_UNITS        = 'DEGREES'\n",
      "      TKFRAME_-117903_AXES         = (   1,      2,      3     )\n",
      "      TKFRAME_-117903_ANGLES       = ( 180.000,  0.000,  0.000 )\n",
      "\n",
      "\n",
      "\n",
      "      NAIF_BODY_NAME += ( 'EDL DEMONSTRATOR MODULE'     )\n",
      "      NAIF_BODY_CODE += ( -117                          )\n",
      "\n",
      "      NAIF_BODY_NAME += ( 'EDM'                         )\n",
      "      NAIF_BODY_CODE += ( -117                          )\n",
      "      \n",
      "      NAIF_BODY_NAME += ( 'EXOMARS 2016 EDM'            )\n",
      "      NAIF_BODY_CODE += ( -117                          )\n",
      "\n",
      "      NAIF_BODY_NAME += ( 'EDM_LANDER'                  )      \n",
      "      NAIF_BODY_CODE += ( -117000                       )\n",
      "\n",
      "      NAIF_BODY_NAME += ( 'EDM_LANDING_SITE'            )      \n",
      "      NAIF_BODY_CODE += ( -117900                       )\n",
      "      \n",
      "\n",
      "      NAIF_BODY_NAME += ( 'EDM_AMELIA'                  )      \n",
      "      NAIF_BODY_CODE += ( -117100                       )\n",
      "      \n",
      "      NAIF_BODY_NAME += ( 'EDM_COMARS'                  )      \n",
      "      NAIF_BODY_CODE += ( -117200                       )\n",
      "      \n",
      "      NAIF_BODY_NAME += ( 'EDM_DECA'                    )      \n",
      "      NAIF_BODY_CODE += ( -117500                       )\n",
      "\n",
      "      NAIF_BODY_NAME += ( 'EDM_DREAMS'                  )      \n",
      "      NAIF_BODY_CODE += ( -117300                       )\n",
      "      \n",
      "      NAIF_BODY_NAME += ( 'EDM_INRRI'                   )      \n",
      "      NAIF_BODY_CODE += ( -117400                       )\n",
      "\n",
      "\n"
     ]
    }
   ],
   "source": [
    "for elem in lst:\n",
    "    print(elem)"
   ]
  },
  {
   "cell_type": "code",
   "execution_count": 229,
   "metadata": {},
   "outputs": [],
   "source": [
    "my_dct = {'name': None,\n",
    "         'class': None,\n",
    "         'id': None}\n",
    "answer_lst = []\n",
    "for elem in lst:\n",
    "    elem = elem.replace(' ', '')\n",
    "    strings = elem.split('\\n')\n",
    "    for string in strings:\n",
    "        if string.find('_NAME=')>=0:\n",
    "            my_dct.update({'name': string[string.find('='):][1:]})\n",
    "        elif(string.find('_CLASS=')>=0):\n",
    "            my_dct.update({'class': string[string.find('='):][1:]})\n",
    "        elif (string.find('_CLASS_ID=')>=0):\n",
    "            my_dct.update({'id': string[string.find('='):][1:]})\n",
    "    if (my_dct['class'] is not None) and (my_dct['name'] is not None) and(my_dct['id'] is not None):\n",
    "        answer_lst.append(my_dct)\n",
    "        my_dct = {'name': None,\n",
    "                 'class': None,\n",
    "                 'id': None}"
   ]
  },
  {
   "cell_type": "code",
   "execution_count": 230,
   "metadata": {},
   "outputs": [
    {
     "data": {
      "text/plain": [
       "[{'class': '3', 'id': '-117001', 'name': \"'EDM_LANDER_CRUISE'\"},\n",
       " {'class': '4', 'id': '-117900', 'name': \"'EDM_TOPO'\"},\n",
       " {'class': '4', 'id': '-117901', 'name': \"'EDM_SURFACE_FIXED'\"},\n",
       " {'class': '4', 'id': '-117903', 'name': \"'EDM_LANDED_LOCAL'\"}]"
      ]
     },
     "execution_count": 230,
     "metadata": {},
     "output_type": "execute_result"
    }
   ],
   "source": [
    "answer_lst"
   ]
  },
  {
   "cell_type": "code",
   "execution_count": null,
   "metadata": {},
   "outputs": [],
   "source": []
  }
 ],
 "metadata": {
  "kernelspec": {
   "display_name": "Python 3",
   "language": "python",
   "name": "python3"
  },
  "language_info": {
   "codemirror_mode": {
    "name": "ipython",
    "version": 3
   },
   "file_extension": ".py",
   "mimetype": "text/x-python",
   "name": "python",
   "nbconvert_exporter": "python",
   "pygments_lexer": "ipython3",
   "version": "3.4.3"
  }
 },
 "nbformat": 4,
 "nbformat_minor": 2
}
